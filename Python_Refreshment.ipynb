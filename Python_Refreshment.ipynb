{
  "cells": [
    {
      "cell_type": "markdown",
      "metadata": {
        "id": "xJDgkEKCv05y"
      },
      "source": [
        "# Welcome to Lab 1!"
      ]
    },
    {
      "cell_type": "markdown",
      "metadata": {
        "id": "mxOE0NtvvmS6"
      },
      "source": [
        "# Lab 1: Python Basics"
      ]
    },
    {
      "cell_type": "markdown",
      "metadata": {
        "id": "WjW6gdQTxVgt"
      },
      "source": [
        "Explanation: Python is a powerful, easy-to-learn, and widely-used programming language in data science and machine learning.\n",
        "\n",
        "Key points: interpreted, dynamically typed, high-level.\n",
        "\n",
        "How to run Python code: interactive shell, script files, Jupyter notebooks.\n",
        "\n"
      ]
    },
    {
      "cell_type": "markdown",
      "metadata": {
        "id": "7plx5Jnmw2uK"
      },
      "source": [
        "## Printing and Comments"
      ]
    },
    {
      "cell_type": "code",
      "execution_count": null,
      "metadata": {
        "colab": {
          "base_uri": "https://localhost:8080/"
        },
        "id": "2zXYV2-gusM4",
        "outputId": "b09eba87-ef86-4c58-c044-cb3b26108677"
      },
      "outputs": [],
      "source": [
        "# This is a single-line comment\n",
        "\n",
        "print(\"Hello, FOML students!\")  # Output will be shown below"
      ]
    },
    {
      "cell_type": "markdown",
      "metadata": {
        "id": "BhKGxBqsw5r2"
      },
      "source": [
        "## Variables and Data Types"
      ]
    },
    {
      "cell_type": "markdown",
      "metadata": {
        "id": "EhWZgX0nxRO5"
      },
      "source": [
        "Variables store data. Naming rules and case sensitivity.\n",
        "\n",
        "Data types with examples:\n",
        "\n",
        "Integers (int): whole numbers.\n",
        "\n",
        "Floating point numbers (float): decimals.\n",
        "\n",
        "Strings (str): text surrounded by quotes.\n",
        "\n",
        "Booleans (bool): True or False.\n",
        "\n"
      ]
    },
    {
      "cell_type": "code",
      "execution_count": null,
      "metadata": {
        "colab": {
          "base_uri": "https://localhost:8080/"
        },
        "id": "BV7C_KuNvAhS",
        "outputId": "bbb05b3f-a9bd-4b59-98b4-1a1920f7e50e"
      },
      "outputs": [],
      "source": [
        "# Integer\n",
        "a = 5\n",
        "\n",
        "# Float\n",
        "b = 3.14\n",
        "\n",
        "# String\n",
        "c = \"Data Science\"\n",
        "\n",
        "# Boolean\n",
        "d = True\n",
        "\n",
        "print(a, b, c, d)\n",
        "print(type(a), type(b), type(c), type(d))\n"
      ]
    },
    {
      "cell_type": "code",
      "execution_count": null,
      "metadata": {
        "colab": {
          "base_uri": "https://localhost:8080/"
        },
        "id": "3CLXZ8Gcz1GE",
        "outputId": "7e45a5a4-d8c0-428a-bb14-14e08f8f4c48"
      },
      "outputs": [],
      "source": [
        "x = 1.0\n",
        "\n",
        "# check if the variable x is a float\n",
        "type(x) is float"
      ]
    },
    {
      "cell_type": "markdown",
      "metadata": {
        "id": "qyDs8T4tz6nY"
      },
      "source": [
        "# Type casting"
      ]
    },
    {
      "cell_type": "code",
      "execution_count": null,
      "metadata": {
        "colab": {
          "base_uri": "https://localhost:8080/"
        },
        "id": "T7eV1pnF0B27",
        "outputId": "ccc5f45b-76c2-4b77-fcff-91483ca74efd"
      },
      "outputs": [],
      "source": [
        "x = 1.5\n",
        "\n",
        "print(x, type(x))"
      ]
    },
    {
      "cell_type": "code",
      "execution_count": null,
      "metadata": {
        "colab": {
          "base_uri": "https://localhost:8080/"
        },
        "id": "JfISELTez8Xq",
        "outputId": "e90bd799-d8d9-42fe-a741-903f9d456bfb"
      },
      "outputs": [],
      "source": [
        "x = int(x)\n",
        "\n",
        "print(x, type(x))\n"
      ]
    },
    {
      "cell_type": "code",
      "execution_count": null,
      "metadata": {
        "colab": {
          "base_uri": "https://localhost:8080/"
        },
        "id": "vZ7f-Vkp0CuT",
        "outputId": "ee345296-7c12-48e2-97e4-42ffcbb08a92"
      },
      "outputs": [],
      "source": [
        "z = complex(x)\n",
        "\n",
        "print(z, type(z))"
      ]
    },
    {
      "cell_type": "code",
      "execution_count": null,
      "metadata": {
        "colab": {
          "base_uri": "https://localhost:8080/",
          "height": 146
        },
        "id": "JCLRntrm0Cq_",
        "outputId": "20a26fbd-25a0-48bf-fc54-65ba9b663fd4"
      },
      "outputs": [],
      "source": [
        "x = float(z)"
      ]
    },
    {
      "cell_type": "markdown",
      "metadata": {
        "id": "ucCbzQF30MkW"
      },
      "source": [
        "Complex variables cannot be cast to floats or integers. We need to use z.real or z.imag to extract the part of the complex number we want:\n",
        "\n"
      ]
    },
    {
      "cell_type": "code",
      "execution_count": null,
      "metadata": {
        "colab": {
          "base_uri": "https://localhost:8080/"
        },
        "id": "ggNsgBFw0LwA",
        "outputId": "38a31fd9-d6b0-4a87-be33-fba13ec5e090"
      },
      "outputs": [],
      "source": [
        "y = bool(z.real)\n",
        "print(z.real, \" -> \", y, type(y))\n",
        "\n",
        "y = bool(z.imag)\n",
        "print(z.imag, \" -> \", y, type(y))"
      ]
    },
    {
      "cell_type": "code",
      "execution_count": null,
      "metadata": {
        "id": "x5TDWYGV0Cov"
      },
      "outputs": [],
      "source": []
    },
    {
      "cell_type": "markdown",
      "metadata": {
        "id": "jAsDGaLixE2P"
      },
      "source": [
        "## Basic Operations"
      ]
    },
    {
      "cell_type": "markdown",
      "metadata": {
        "id": "c3wSPtfuxZbq"
      },
      "source": [
        "Arithmetic operators: + - * / // % **\n",
        "\n",
        "Examples with integers and floats.\n",
        "\n",
        "Operator precedence and parentheses.\n",
        "\n",
        "Comparison operators: ==, !=, >, <, >=, <=.\n",
        "\n",
        "Logical operators: and, or, not.\n",
        "\n"
      ]
    },
    {
      "cell_type": "code",
      "execution_count": null,
      "metadata": {
        "colab": {
          "base_uri": "https://localhost:8080/"
        },
        "id": "F31osGiKvAdv",
        "outputId": "867c85fa-7f23-4670-9847-20d4acf16ec5"
      },
      "outputs": [],
      "source": [
        "# Arithmetic\n",
        "add = 2 + 3\n",
        "sub = 5 - 4\n",
        "mul = 2 * 3\n",
        "div = 7 / 2  # always float in Python 3\n",
        "\n",
        "# Exponentiation and Modulo\n",
        "exp = 2 ** 3  # 2 to the power 3\n",
        "mod = 7 % 3   # remainder\n",
        "\n",
        "print(add, sub, mul, div, exp, mod)\n"
      ]
    },
    {
      "cell_type": "code",
      "execution_count": null,
      "metadata": {
        "colab": {
          "base_uri": "https://localhost:8080/"
        },
        "id": "ppZgo0BOxdPy",
        "outputId": "b28d9135-b894-4ee8-faac-91a3a44da93c"
      },
      "outputs": [],
      "source": [
        "x = 10\n",
        "y = 3\n",
        "print(\"Add:\", x + y)\n",
        "print(\"Divide:\", x / y)\n",
        "print(\"Floor Divide:\", x // y)\n",
        "print(\"Power:\", x ** y)\n",
        "print(\"Is x greater than y?\", x > y)\n",
        "print(\"Logical AND:\", True and False)\n"
      ]
    },
    {
      "cell_type": "markdown",
      "metadata": {
        "id": "FNLTpq3T0UGo"
      },
      "source": [
        "Note: The / operator always performs a floating point division in Python 3.x. This is not true in Python 2.x, where the result of / is always an integer if the operands are integers. to be more specific, 1/2 = 0.5 (float) in Python 3.x, and 1/2 = 0 (int) in Python 2.x (but 1.0/2 = 0.5 in Python 2.x).\n",
        "\n",
        "The boolean operators are spelled out as the words and, not, or.\n",
        "\n"
      ]
    },
    {
      "cell_type": "code",
      "execution_count": null,
      "metadata": {
        "colab": {
          "base_uri": "https://localhost:8080/"
        },
        "id": "RHRKdSF80U_z",
        "outputId": "941475a9-0838-445a-fdc7-cf20edc1febd"
      },
      "outputs": [],
      "source": [
        "True and False"
      ]
    },
    {
      "cell_type": "code",
      "execution_count": null,
      "metadata": {
        "colab": {
          "base_uri": "https://localhost:8080/"
        },
        "id": "ZM3NfJ0S0Wq2",
        "outputId": "a06da85f-1647-4077-f1f8-e9d6cb559b81"
      },
      "outputs": [],
      "source": [
        "not False"
      ]
    },
    {
      "cell_type": "markdown",
      "metadata": {
        "id": "ldWT3gbr0clH"
      },
      "source": [
        "# Comparison operators >, <, >= (greater or equal), <= (less or equal), == equality, is identical."
      ]
    },
    {
      "cell_type": "code",
      "execution_count": null,
      "metadata": {
        "colab": {
          "base_uri": "https://localhost:8080/"
        },
        "id": "Ivdhy_hD0cUA",
        "outputId": "961629b1-6999-4591-f01f-fb22075b78f7"
      },
      "outputs": [],
      "source": [
        "(2 > 1, 2 < 1)"
      ]
    },
    {
      "cell_type": "code",
      "execution_count": null,
      "metadata": {
        "colab": {
          "base_uri": "https://localhost:8080/"
        },
        "id": "bJT3bxIn0XWW",
        "outputId": "58813cc5-755c-4dc9-8f57-3b85847572a1"
      },
      "outputs": [],
      "source": [
        "(2 > 2, 2 < 2)"
      ]
    },
    {
      "cell_type": "code",
      "execution_count": null,
      "metadata": {
        "colab": {
          "base_uri": "https://localhost:8080/"
        },
        "id": "0544mVYe0hua",
        "outputId": "f4e6b713-bd07-4546-c436-18a3acb01018"
      },
      "outputs": [],
      "source": [
        "(2 >= 2, 2 <= 2)"
      ]
    },
    {
      "cell_type": "code",
      "execution_count": null,
      "metadata": {
        "colab": {
          "base_uri": "https://localhost:8080/"
        },
        "id": "Ryuf5M8L0hrh",
        "outputId": "ebc52a54-6be3-4ea0-b400-5aea89dfb2a1"
      },
      "outputs": [],
      "source": [
        "# equality\n",
        "[1,2] == [1,2]"
      ]
    },
    {
      "cell_type": "code",
      "execution_count": null,
      "metadata": {
        "colab": {
          "base_uri": "https://localhost:8080/"
        },
        "id": "Pmqe6C-C0k7S",
        "outputId": "55a42a16-c0b8-47fd-ce58-8ad4a09fa0c5"
      },
      "outputs": [],
      "source": [
        "# identity\n",
        "[1,2] is [1,2]"
      ]
    },
    {
      "cell_type": "code",
      "execution_count": null,
      "metadata": {
        "colab": {
          "base_uri": "https://localhost:8080/"
        },
        "id": "Kh3LxxYW0pzv",
        "outputId": "c3901d61-412e-43e5-8823-adceda6e0eac"
      },
      "outputs": [],
      "source": [
        "# objects identical?\n",
        "l1 = [1,2]\n",
        "l2 = l1\n",
        "\n",
        "l1 is l2"
      ]
    },
    {
      "cell_type": "markdown",
      "metadata": {
        "id": "mKxl_6og0rNl"
      },
      "source": [
        "# Question: is = and (is) are different?, How?\n"
      ]
    },
    {
      "cell_type": "markdown",
      "metadata": {
        "id": "m8RQqBToxkgP"
      },
      "source": [
        "# Strings and String Methods"
      ]
    },
    {
      "cell_type": "markdown",
      "metadata": {
        "id": "lcjvVf1-xkW3"
      },
      "source": []
    },
    {
      "cell_type": "markdown",
      "metadata": {
        "id": "EF41zPYBxhFJ"
      },
      "source": [
        "\n",
        "String creation, quotes (single, double, triple).\n",
        "\n",
        "Escape characters (\\n, \\t).\n",
        "\n",
        "String concatenation and repetition.\n",
        "\n",
        "Accessing characters by indexing and slicing.\n",
        "\n",
        "Useful string methods (.lower(), .upper(), .strip(), .replace(), .split()).\n",
        "\n"
      ]
    },
    {
      "cell_type": "code",
      "execution_count": null,
      "metadata": {
        "colab": {
          "base_uri": "https://localhost:8080/"
        },
        "id": "2SJRIzFjvAb2",
        "outputId": "4f86ef9e-35d0-40e4-f14f-7cc1cf811e2a"
      },
      "outputs": [],
      "source": [
        "s = \"Python is fun!\"\n",
        "print(s[0], s[-1])\n",
        "print(s[0:6])\n",
        "print(s.lower())\n",
        "print(s.split())"
      ]
    },
    {
      "cell_type": "code",
      "execution_count": null,
      "metadata": {
        "colab": {
          "base_uri": "https://localhost:8080/"
        },
        "id": "81CWaj1p1VEu",
        "outputId": "c810759a-d8df-4666-c49e-c19521c119cb"
      },
      "outputs": [],
      "source": [
        "s = \"Hello world\"\n",
        "type(s)"
      ]
    },
    {
      "cell_type": "code",
      "execution_count": null,
      "metadata": {
        "colab": {
          "base_uri": "https://localhost:8080/"
        },
        "id": "3p60vgr61WDs",
        "outputId": "4a55ddfa-2244-4901-a3d0-b7c7913c66df"
      },
      "outputs": [],
      "source": [
        "# length of the string: the number of characters\n",
        "len(s)"
      ]
    },
    {
      "cell_type": "code",
      "execution_count": null,
      "metadata": {
        "colab": {
          "base_uri": "https://localhost:8080/"
        },
        "id": "ICfDQqtt1V78",
        "outputId": "6d1d38bf-4397-4575-e817-ae4217f8abd6"
      },
      "outputs": [],
      "source": [
        "# replace a substring in a string with something else\n",
        "s2 = s.replace(\"world\", \"test\")\n",
        "print(s2)"
      ]
    },
    {
      "cell_type": "code",
      "execution_count": null,
      "metadata": {
        "colab": {
          "base_uri": "https://localhost:8080/",
          "height": 36
        },
        "id": "sbrWHMMZ1Z8d",
        "outputId": "fbdf40d7-fa2c-4dd2-d7d0-d4f24659e24e"
      },
      "outputs": [],
      "source": [
        "s[0]"
      ]
    },
    {
      "cell_type": "markdown",
      "metadata": {
        "id": "D0FCDt4A1cYH"
      },
      "source": [
        "We can extract a part of a string using the syntax [start:stop], which extracts characters between index start and stop -1 (the character at index stop is not included):\n",
        "\n"
      ]
    },
    {
      "cell_type": "code",
      "execution_count": null,
      "metadata": {
        "colab": {
          "base_uri": "https://localhost:8080/",
          "height": 36
        },
        "id": "rov3Y5Rq1Z6A",
        "outputId": "7ce89fd7-0ada-4822-c732-aca0ac46634f"
      },
      "outputs": [],
      "source": [
        "s[0:5]"
      ]
    },
    {
      "cell_type": "code",
      "execution_count": null,
      "metadata": {
        "colab": {
          "base_uri": "https://localhost:8080/",
          "height": 36
        },
        "id": "78p0FOxJ1fNj",
        "outputId": "ce4ffc31-2870-43ec-c7bf-485cdac286e7"
      },
      "outputs": [],
      "source": [
        "s[4:5]"
      ]
    },
    {
      "cell_type": "code",
      "execution_count": null,
      "metadata": {
        "colab": {
          "base_uri": "https://localhost:8080/",
          "height": 36
        },
        "id": "Q2kD6QXU1fLV",
        "outputId": "6c0a1ca5-8efb-444e-d645-4b219fba0460"
      },
      "outputs": [],
      "source": [
        "s[:5]"
      ]
    },
    {
      "cell_type": "code",
      "execution_count": null,
      "metadata": {
        "colab": {
          "base_uri": "https://localhost:8080/",
          "height": 36
        },
        "id": "_O72SoSz1el9",
        "outputId": "d1425f66-a4f5-4a52-a0e5-2d3541b8fed4"
      },
      "outputs": [],
      "source": [
        "s[6:]"
      ]
    },
    {
      "cell_type": "code",
      "execution_count": null,
      "metadata": {
        "colab": {
          "base_uri": "https://localhost:8080/",
          "height": 36
        },
        "id": "kEeEdXLS1ejs",
        "outputId": "8abd45f0-5966-43b8-eea5-e3ec90c1161a"
      },
      "outputs": [],
      "source": [
        "s[:]"
      ]
    },
    {
      "cell_type": "code",
      "execution_count": null,
      "metadata": {
        "colab": {
          "base_uri": "https://localhost:8080/",
          "height": 36
        },
        "id": "CevwBfJr1ehT",
        "outputId": "99c23dba-3037-4af5-f099-fec4b9978f33"
      },
      "outputs": [],
      "source": [
        "s[::1]"
      ]
    },
    {
      "cell_type": "code",
      "execution_count": null,
      "metadata": {
        "colab": {
          "base_uri": "https://localhost:8080/",
          "height": 36
        },
        "id": "JMxe1PQ21l2Y",
        "outputId": "7d250a1f-722e-436d-bfa3-3875615bead7"
      },
      "outputs": [],
      "source": [
        "s[::2]"
      ]
    },
    {
      "cell_type": "markdown",
      "metadata": {
        "id": "5ogJqug01qsB"
      },
      "source": [
        "This technique is called slicing. Read more about the syntax here: https://docs.python.org/3/library/functions.html#slice\n",
        "\n",
        "Python has a very rich set of functions for text processing. See for example https://docs.python.org/3/library/stdtypes.html#text-sequence-type-str for more information.\n",
        "\n",
        "Remember, as the documentation makes clear, str is actually a sequence type.\n",
        "\n"
      ]
    },
    {
      "cell_type": "markdown",
      "metadata": {
        "id": "C8I6fDZK1xu6"
      },
      "source": [
        "# String formatting examples"
      ]
    },
    {
      "cell_type": "code",
      "execution_count": null,
      "metadata": {
        "colab": {
          "base_uri": "https://localhost:8080/"
        },
        "id": "LSD1L8tg1w_7",
        "outputId": "2ccda93b-c253-4f5e-e373-d77b90663196"
      },
      "outputs": [],
      "source": [
        "print(\"str1\", \"str2\", \"str3\")  # The print statement concatenates strings with a space"
      ]
    },
    {
      "cell_type": "code",
      "execution_count": null,
      "metadata": {
        "colab": {
          "base_uri": "https://localhost:8080/"
        },
        "id": "hETZwGl21lz4",
        "outputId": "34ff9b96-54c6-4ba6-be70-035c832427d1"
      },
      "outputs": [],
      "source": [
        "print(\"str1\", 1.0, False, -1j)  # The print statements converts all arguments (where it can) to strings"
      ]
    },
    {
      "cell_type": "code",
      "execution_count": null,
      "metadata": {
        "colab": {
          "base_uri": "https://localhost:8080/"
        },
        "id": "dzc3I8MG11wJ",
        "outputId": "7232c490-cc21-430c-b535-964332f1dff5"
      },
      "outputs": [],
      "source": [
        "print(\"str1\" + \"str2\" + \"str3\") # strings added with + are concatenated without space"
      ]
    },
    {
      "cell_type": "code",
      "execution_count": null,
      "metadata": {
        "colab": {
          "base_uri": "https://localhost:8080/"
        },
        "id": "d6E8PsaT11sZ",
        "outputId": "8221e747-e608-4b31-b806-c298943a6ea0"
      },
      "outputs": [],
      "source": [
        "# formatting a string [more on this later]\n",
        "s3 = 'value1 = {0}, value2 = {1}'.format(3.1415, 1.5)\n",
        "\n",
        "print(s3)"
      ]
    },
    {
      "cell_type": "code",
      "execution_count": null,
      "metadata": {
        "id": "nT1BeAbO11p1"
      },
      "outputs": [],
      "source": []
    },
    {
      "cell_type": "markdown",
      "metadata": {
        "id": "tWpoFlcUxtLh"
      },
      "source": [
        "# Data Structures (Lists, Tuples, Dictionaries, Sets)\n"
      ]
    },
    {
      "cell_type": "markdown",
      "metadata": {
        "id": "RFkLiah2xwAC"
      },
      "source": [
        "## Lists\n",
        "Ordered, mutable collections.\n",
        "\n",
        "Creating, indexing, slicing, adding/removing elements.\n",
        "\n"
      ]
    },
    {
      "cell_type": "code",
      "execution_count": null,
      "metadata": {
        "colab": {
          "base_uri": "https://localhost:8080/"
        },
        "id": "vUERTORdvAZ9",
        "outputId": "c0814dfb-53ee-4368-89fc-6d15ea747cab"
      },
      "outputs": [],
      "source": [
        "fruits = [\"apple\", \"banana\", \"cherry\"]\n",
        "fruits.append(\"orange\")\n",
        "print(fruits[1])"
      ]
    },
    {
      "cell_type": "code",
      "execution_count": null,
      "metadata": {
        "colab": {
          "base_uri": "https://localhost:8080/"
        },
        "id": "MVz6x_JL1--k",
        "outputId": "77c62645-119a-41ba-9d09-9f7aa400399d"
      },
      "outputs": [],
      "source": [
        "l = [1,2,3,4]  # actually it's pretty bad practice to call your list 'l', it looks a lot like '1'\n",
        "\n",
        "print(type(l))\n",
        "print(l)"
      ]
    },
    {
      "cell_type": "code",
      "execution_count": null,
      "metadata": {
        "colab": {
          "base_uri": "https://localhost:8080/"
        },
        "id": "Oe01lghC19v5",
        "outputId": "6bc28552-70c4-45f5-d1dc-eb789cd32587"
      },
      "outputs": [],
      "source": [
        "print(l)\n",
        "\n",
        "print(l[1:3])\n",
        "\n",
        "print(l[::2])"
      ]
    },
    {
      "cell_type": "code",
      "execution_count": null,
      "metadata": {
        "colab": {
          "base_uri": "https://localhost:8080/"
        },
        "id": "abKYQJJD2BPB",
        "outputId": "a6c96670-ef89-445c-8a12-41aeb221a84c"
      },
      "outputs": [],
      "source": [
        "l = [1, 'a', 1.0, 1-1j]\n",
        "\n",
        "print(l)"
      ]
    },
    {
      "cell_type": "code",
      "execution_count": null,
      "metadata": {
        "colab": {
          "base_uri": "https://localhost:8080/"
        },
        "id": "0XKVaXOv2DUq",
        "outputId": "58b3be38-c385-4cd4-ff18-3d2211b491da"
      },
      "outputs": [],
      "source": [
        "nested_list = [1, [2, [3, [4, [5]]]]]\n",
        "\n",
        "nested_list"
      ]
    },
    {
      "cell_type": "markdown",
      "metadata": {
        "id": "JU4RvEzd2Jl-"
      },
      "source": [
        "# Range"
      ]
    },
    {
      "cell_type": "markdown",
      "metadata": {
        "id": "prtB64Si2FQK"
      },
      "source": [
        "Lists play a very important role in Python. For example they are used in loops and other flow control structures (discussed below). There are a number of convenient functions for generating lists of various types, for example the range function:\n",
        "\n"
      ]
    },
    {
      "cell_type": "code",
      "execution_count": null,
      "metadata": {
        "colab": {
          "base_uri": "https://localhost:8080/"
        },
        "id": "O4G_ExyS2DST",
        "outputId": "fe0b47ad-2fa3-4f3a-c753-f60fa9a204d4"
      },
      "outputs": [],
      "source": [
        "start = 10\n",
        "stop = 30\n",
        "step = 2\n",
        "\n",
        "range(start, stop, step)"
      ]
    },
    {
      "cell_type": "code",
      "execution_count": null,
      "metadata": {
        "colab": {
          "base_uri": "https://localhost:8080/"
        },
        "id": "z_kSSP_R2DPl",
        "outputId": "3ccac9e8-0322-4fd3-b596-db5186c824fc"
      },
      "outputs": [],
      "source": [
        "# sorting lists\n",
        "s3 = sorted(s2)\n",
        "print(s3)"
      ]
    },
    {
      "cell_type": "code",
      "execution_count": null,
      "metadata": {
        "colab": {
          "base_uri": "https://localhost:8080/"
        },
        "id": "GVbK0FGc2BMf",
        "outputId": "b227f5d3-2312-49d5-ca32-48c7f416a959"
      },
      "outputs": [],
      "source": [
        "# create a new empty list\n",
        "l = []\n",
        "\n",
        "# add an elements using `append`\n",
        "l.append(\"A\")\n",
        "l.append(\"d\")\n",
        "l.append(\"d\")\n",
        "\n",
        "print(l)"
      ]
    },
    {
      "cell_type": "code",
      "execution_count": null,
      "metadata": {
        "colab": {
          "base_uri": "https://localhost:8080/"
        },
        "id": "f_IMktaO2dll",
        "outputId": "fcd4b427-0691-4ef4-e922-ef1cc80fef46"
      },
      "outputs": [],
      "source": [
        "l[1] = \"p\"\n",
        "l[2] = \"p\"\n",
        "\n",
        "print(l)"
      ]
    },
    {
      "cell_type": "code",
      "execution_count": null,
      "metadata": {
        "colab": {
          "base_uri": "https://localhost:8080/"
        },
        "id": "Fx3CjkLd2evl",
        "outputId": "269547e1-ea4f-42c6-a79d-a86553b23f8a"
      },
      "outputs": [],
      "source": [
        "l.insert(0, \"i\")\n",
        "l.insert(1, \"n\")\n",
        "l.insert(2, \"s\")\n",
        "l.insert(3, \"e\")\n",
        "l.insert(4, \"r\")\n",
        "l.insert(5, \"t\")\n",
        "\n",
        "print(l)"
      ]
    },
    {
      "cell_type": "code",
      "execution_count": null,
      "metadata": {
        "colab": {
          "base_uri": "https://localhost:8080/"
        },
        "id": "GjFePAEB2gRa",
        "outputId": "29a1e67f-9d27-49d8-de6c-896f924f03ac"
      },
      "outputs": [],
      "source": [
        "del l[7]\n",
        "del l[6]\n",
        "\n",
        "print(l)"
      ]
    },
    {
      "cell_type": "code",
      "execution_count": null,
      "metadata": {
        "colab": {
          "base_uri": "https://localhost:8080/"
        },
        "id": "5sgLwvzN20dX",
        "outputId": "e0de14a0-414c-4f4d-be74-d48ca2526957"
      },
      "outputs": [],
      "source": [
        "# 1. Creating a list with different data types\n",
        "fruits = [\"apple\", \"banana\", \"cherry\"]\n",
        "numbers = [1, 2, 3, 4, 5]\n",
        "mixed = [1, \"hello\", 3.14, True]\n",
        "\n",
        "print(fruits)       # Output: ['apple', 'banana', 'cherry']\n",
        "print(numbers)      # Output: [1, 2, 3, 4, 5]\n",
        "print(mixed)        # Output: [1, 'hello', 3.14, True]\n",
        "\n",
        "# 2. Accessing elements by index (0-based)\n",
        "print(fruits[0])    # apple (first element)\n",
        "print(fruits[-1])   # cherry (last element)\n",
        "\n",
        "# 3. Modifying elements\n",
        "fruits[1] = \"blueberry\"\n",
        "print(fruits)       # ['apple', 'blueberry', 'cherry']\n",
        "\n",
        "# 4. Adding elements\n",
        "fruits.append(\"date\")         # Add to end\n",
        "print(fruits)                 # ['apple', 'blueberry', 'cherry', 'date']\n",
        "\n",
        "fruits.insert(1, \"banana\")   # Insert at index 1\n",
        "print(fruits)                 # ['apple', 'banana', 'blueberry', 'cherry', 'date']\n",
        "\n",
        "# 5. Removing elements\n",
        "fruits.remove(\"cherry\")  # Remove by value\n",
        "print(fruits)            # ['apple', 'banana', 'blueberry', 'date']\n",
        "\n",
        "popped = fruits.pop()    # Remove and return last element\n",
        "print(popped)            # date\n",
        "print(fruits)            # ['apple', 'banana', 'blueberry']\n",
        "\n",
        "# 6. Slicing lists (getting sublists)\n",
        "print(fruits[1:3])      # ['banana', 'blueberry']\n",
        "print(fruits[:2])       # ['apple', 'banana']\n",
        "print(fruits[::2])      # ['apple', 'blueberry'] (every 2nd element)\n",
        "\n",
        "# 7. Iterating over a list\n",
        "for fruit in fruits:\n",
        "    print(fruit)\n",
        "\n",
        "# 8. Checking membership\n",
        "print(\"banana\" in fruits)   # True\n",
        "print(\"date\" in fruits)     # False\n",
        "\n",
        "# 9. Length of a list\n",
        "print(len(fruits))          # 3\n"
      ]
    },
    {
      "cell_type": "markdown",
      "metadata": {
        "id": "gDMU7GdO3LLD"
      },
      "source": [
        "# Tuple"
      ]
    },
    {
      "cell_type": "code",
      "execution_count": null,
      "metadata": {
        "colab": {
          "base_uri": "https://localhost:8080/"
        },
        "id": "b_SZDUDq3PhV",
        "outputId": "21b23890-2b8c-4ddc-8e4d-00531f5485d9"
      },
      "outputs": [],
      "source": [
        "# 1. Creating tuples\n",
        "empty_tuple = ()\n",
        "single_element_tuple = (10,)  # Note the comma\n",
        "regular_tuple = (1, 2, 3, 4)\n",
        "mixed_tuple = (1, \"hello\", 3.14, True)\n",
        "\n",
        "print(empty_tuple)          # Output: ()\n",
        "print(single_element_tuple) # Output: (10,)\n",
        "print(regular_tuple)        # Output: (1, 2, 3, 4)\n",
        "print(mixed_tuple)          # Output: (1, 'hello', 3.14, True)\n",
        "\n",
        "# 2. Accessing tuple elements (indexing and negative indexing)\n",
        "print(regular_tuple[0])   # Output: 1 (first element)\n",
        "print(regular_tuple[-1])  # Output: 4 (last element)\n",
        "\n",
        "# 3. Slicing tuples\n",
        "print(regular_tuple[1:3])  # Output: (2, 3)\n",
        "print(regular_tuple[:2])   # Output: (1, 2)\n",
        "print(regular_tuple[::2])  # Output: (1, 3)\n",
        "\n",
        "# 4. Immutability - tuples cannot be changed after creation\n",
        "# regular_tuple[1] = 10  # This would raise an error: TypeError: 'tuple' object does not support item assignment\n",
        "\n",
        "# 5. Tuple concatenation and repetition\n",
        "t1 = (1, 2)\n",
        "t2 = (3, 4)\n",
        "print(t1 + t2)     # Output: (1, 2, 3, 4)\n",
        "print(t1 * 3)      # Output: (1, 2, 1, 2, 1, 2)\n",
        "\n",
        "# 6. Tuple unpacking\n",
        "a, b, c = (10, 20, 30)\n",
        "print(a)  # Output: 10\n",
        "print(b)  # Output: 20\n",
        "print(c)  # Output: 30\n",
        "\n",
        "# 7. Nested tuples\n",
        "nested = ((1, 2), (3, 4))\n",
        "print(nested)          # Output: ((1, 2), (3, 4))\n",
        "print(nested[0][1])    # Output: 2\n",
        "\n",
        "# 8. Using tuples as dictionary keys (because tuples are immutable)\n",
        "dict_with_tuple_keys = { (1, 2): \"point A\", (3, 4): \"point B\" }\n",
        "print(dict_with_tuple_keys[(1, 2)])  # Output: point A\n",
        "\n",
        "# 9. Length of a tuple\n",
        "print(len(mixed_tuple))   # Output: 4\n",
        "\n",
        "# 10. Iterating over a tuple\n",
        "for item in mixed_tuple:\n",
        "    print(item)\n",
        "\n",
        "# 11. Converting list to tuple\n",
        "lst = [1, 2, 3]\n",
        "t = tuple(lst)\n",
        "print(t)  # Output: (1, 2, 3)\n",
        "\n",
        "# 12. Tuple with mutable objects inside\n"
      ]
    },
    {
      "cell_type": "markdown",
      "metadata": {
        "id": "IDZz_COcx8d_"
      },
      "source": [
        "## Sets\n",
        "Unordered, unique elements"
      ]
    },
    {
      "cell_type": "code",
      "execution_count": null,
      "metadata": {
        "colab": {
          "base_uri": "https://localhost:8080/"
        },
        "id": "2x2M0WLsx7K3",
        "outputId": "d78fc368-29d7-416f-a190-4294585a934a"
      },
      "outputs": [],
      "source": [
        "unique_nums = {1, 2, 2, 3}\n",
        "print(unique_nums)"
      ]
    },
    {
      "cell_type": "code",
      "execution_count": null,
      "metadata": {
        "colab": {
          "base_uri": "https://localhost:8080/"
        },
        "id": "8HM_i17y3AEE",
        "outputId": "27d0a1fd-08bb-4154-b971-bf55d4c579ef"
      },
      "outputs": [],
      "source": [
        "# 1. Creating sets\n",
        "fruits = {\"apple\", \"banana\", \"cherry\"}\n",
        "numbers = {1, 2, 3, 4, 5}\n",
        "mixed = {1, \"hello\", 3.14, (2, 3)}\n",
        "\n",
        "print(fruits)       # Output: {'banana', 'cherry', 'apple'} (order not guaranteed)\n",
        "print(numbers)      # Output: {1, 2, 3, 4, 5}\n",
        "print(mixed)        # Output: {1, 3.14, 'hello', (2, 3)}\n",
        "\n",
        "# 2. Creating an empty set (note: {} creates an empty dict)\n",
        "empty_set = set()\n",
        "print(empty_set)    # Output: set()\n",
        "\n",
        "# 3. Adding and removing elements\n",
        "fruits.add(\"orange\")\n",
        "print(fruits)       # {'banana', 'cherry', 'orange', 'apple'}\n",
        "\n",
        "fruits.remove(\"banana\")  # Remove specified element\n",
        "print(fruits)            # {'cherry', 'orange', 'apple'}\n",
        "\n",
        "fruits.discard(\"kiwi\")   # Remove element if exists, no error if not present\n",
        "\n",
        "# 4. Checking membership\n",
        "print(\"apple\" in fruits)     # True\n",
        "print(\"banana\" in fruits)    # False\n",
        "\n",
        "# 5. Set operations between two sets\n",
        "set1 = {1, 2, 3, 4}\n",
        "set2 = {3, 4, 5, 6}\n",
        "\n",
        "# Union - all unique elements from both sets\n",
        "print(set1 | set2)           # {1, 2, 3, 4, 5, 6}\n",
        "\n",
        "# Intersection - common elements\n",
        "print(set1 & set2)           # {3, 4}\n",
        "\n",
        "# Difference - elements in set1 but not in set2\n",
        "print(set1 - set2)           # {1, 2}\n",
        "\n",
        "# Symmetric difference - elements in either set but not both\n",
        "print(set1 ^ set2)           # {1, 2, 5, 6}\n",
        "\n",
        "# 6. Iterating over a set\n",
        "for fruit in fruits:\n",
        "    print(fruit)\n",
        "\n",
        "# 7. Set comprehension: create a set of squares of numbers 1 to 5\n",
        "squares = {x**2 for x in range(1, 6)}\n",
        "print(squares)              # {1, 4, 9, 16, 25}\n"
      ]
    },
    {
      "cell_type": "markdown",
      "metadata": {
        "id": "S8gJZ1uFyuzy"
      },
      "source": [
        "## Dictionaries\n",
        "Key-value pairs, unordered."
      ]
    },
    {
      "cell_type": "code",
      "execution_count": null,
      "metadata": {
        "colab": {
          "base_uri": "https://localhost:8080/"
        },
        "id": "7wyVpnArx_Mh",
        "outputId": "6f0188bf-9570-4aa4-a1ff-6d7bbef5b003"
      },
      "outputs": [],
      "source": [
        "student = {\"name\": \"John\", \"age\": 21}\n",
        "print(student[\"name\"])\n",
        "student[\"age\"] = 22\n"
      ]
    },
    {
      "cell_type": "code",
      "execution_count": null,
      "metadata": {
        "colab": {
          "base_uri": "https://localhost:8080/"
        },
        "id": "daNt8kfR3bhl",
        "outputId": "d5f35bff-cd37-43f2-d946-b7f73b36867e"
      },
      "outputs": [],
      "source": [
        "person = {\n",
        "    \"name\": \"Alice\",\n",
        "    \"age\": 30,\n",
        "    \"city\": \"New York\"\n",
        "}\n",
        "print(person)\n"
      ]
    },
    {
      "cell_type": "code",
      "execution_count": null,
      "metadata": {
        "colab": {
          "base_uri": "https://localhost:8080/"
        },
        "id": "ENOqiAju3dzq",
        "outputId": "208d3c22-62af-4536-febc-7ba1706c0c8d"
      },
      "outputs": [],
      "source": [
        "print(person[\"name\"])   # Alice\n",
        "print(person.get(\"age\"))  # 30\n",
        "print(person.get(\"email\", \"Not available\"))  # Not available (safe access)\n"
      ]
    },
    {
      "cell_type": "code",
      "execution_count": null,
      "metadata": {
        "colab": {
          "base_uri": "https://localhost:8080/"
        },
        "id": "f7jj6smJ3gzV",
        "outputId": "be3231c5-a760-40eb-cda5-9f6a873efcf9"
      },
      "outputs": [],
      "source": [
        "person[\"email\"] = \"alice@example.com\"   # Add new key-value pair\n",
        "person[\"age\"] = 31                      # Update existing key\n",
        "print(person)\n"
      ]
    },
    {
      "cell_type": "code",
      "execution_count": null,
      "metadata": {
        "colab": {
          "base_uri": "https://localhost:8080/"
        },
        "id": "dYOwlI7V3kJt",
        "outputId": "91722be7-f8e6-4fb3-b0bf-0247cae76a5b"
      },
      "outputs": [],
      "source": [
        "del person[\"city\"]          # Remove by key\n",
        "print(person)"
      ]
    },
    {
      "cell_type": "code",
      "execution_count": null,
      "metadata": {
        "colab": {
          "base_uri": "https://localhost:8080/"
        },
        "id": "FH_lzvgF3mvD",
        "outputId": "c069ca4b-1ada-4e3b-e884-19f4c69c5cea"
      },
      "outputs": [],
      "source": [
        "email = person.pop(\"email\") # Remove and return value\n",
        "print(email)\n",
        "print(person)"
      ]
    },
    {
      "cell_type": "code",
      "execution_count": null,
      "metadata": {
        "colab": {
          "base_uri": "https://localhost:8080/"
        },
        "id": "UB5yT6ti3msr",
        "outputId": "65189688-e4cd-4cda-ad74-c400e6362be8"
      },
      "outputs": [],
      "source": [
        "for key in person:\n",
        "    print(key)              # Prints keys\n"
      ]
    },
    {
      "cell_type": "code",
      "execution_count": null,
      "metadata": {
        "colab": {
          "base_uri": "https://localhost:8080/"
        },
        "id": "JVnhq3_y3voF",
        "outputId": "28f7b0c1-247e-476b-da69-a0c85351a24c"
      },
      "outputs": [],
      "source": [
        "for value in person.values():\n",
        "    print(value)            # Prints values"
      ]
    },
    {
      "cell_type": "code",
      "execution_count": null,
      "metadata": {
        "colab": {
          "base_uri": "https://localhost:8080/"
        },
        "id": "-ARFbm163yhz",
        "outputId": "6ff00f21-f086-4d4e-a54d-2321d3eab2b4"
      },
      "outputs": [],
      "source": [
        "for key, value in person.items():\n",
        "    print(f\"{key}: {value}\")\n"
      ]
    },
    {
      "cell_type": "code",
      "execution_count": null,
      "metadata": {
        "colab": {
          "base_uri": "https://localhost:8080/"
        },
        "id": "Y5yZ6qKm3yfe",
        "outputId": "f5eb44b7-728b-4016-967d-945c860bf10f"
      },
      "outputs": [],
      "source": [
        "# 6. Checking for presence of a key\n",
        "print(\"name\" in person)     # True\n",
        "print(\"city\" in person)     # False\n"
      ]
    },
    {
      "cell_type": "code",
      "execution_count": null,
      "metadata": {
        "colab": {
          "base_uri": "https://localhost:8080/"
        },
        "id": "pP9SmkH337Gc",
        "outputId": "47e376dc-7c52-415f-9c8d-c9a7676ae8f2"
      },
      "outputs": [],
      "source": [
        "print(len(person))"
      ]
    },
    {
      "cell_type": "code",
      "execution_count": null,
      "metadata": {
        "colab": {
          "base_uri": "https://localhost:8080/"
        },
        "id": "GSuTbIIY3728",
        "outputId": "6adeaf46-004f-4f85-b227-f04125e7857e"
      },
      "outputs": [],
      "source": [
        "users = {\n",
        "    \"user1\": {\"name\": \"Alice\", \"age\": 30},\n",
        "    \"user2\": {\"name\": \"Bob\", \"age\": 25}\n",
        "}\n",
        "print(users[\"user1\"][\"name\"])  # Alice\n"
      ]
    },
    {
      "cell_type": "markdown",
      "metadata": {
        "id": "LnaCgRfW4-kN"
      },
      "source": [
        "## In Python, four fundamental data structures- lists, tuples, sets, and dictionaries provide versatile ways to organize and manage collections of data effectively.\n",
        "\n",
        "\n",
        "Lists are ordered and mutable, allowing you to store collections of items that can be changed, expanded, or reduced over time. This makes them ideal for scenarios such as maintaining an evolving list of students or tasks where order and flexibility matter.\n",
        "\n",
        "\n",
        "Tuples, on the other hand, are similar to lists but immutable; once created, their contents cannot be altered. This immutability makes tuples perfect for representing fixed data like coordinates, RGB color values, or configuration settings, and because they are hashable, they can be used as keys in dictionaries.\n",
        "\n",
        "\n",
        "Sets are unordered collections of unique elements, which shine in situations where you need to eliminate duplicates, check membership efficiently, or perform classic mathematical operations like unions and intersections-for example, finding shared students between two classes.\n",
        "\n",
        "\n",
        "Finally, dictionaries store key-value pairs, offering a powerful way to quickly retrieve information based on unique keys, such as mapping employee IDs to their profiles or product names to prices. By understanding these core structures and their characteristics, you can choose the right tool for your data, resulting in clear, efficient, and maintainable Python code tailored to your problem's needs."
      ]
    },
    {
      "cell_type": "markdown",
      "metadata": {
        "id": "TvEMkT7my1MN"
      },
      "source": [
        "## Exercises:\n",
        "\n",
        "Create a list of numbers, add elements, remove an element.\n",
        "\n",
        "Create a dictionary to store info about a book.\n",
        "\n"
      ]
    },
    {
      "cell_type": "markdown",
      "metadata": {
        "id": "NcuOQuuFy5Z7"
      },
      "source": [
        "# Control Flow: Conditionals and Loops\n"
      ]
    },
    {
      "cell_type": "markdown",
      "metadata": {
        "id": "EijaX2xizHuZ"
      },
      "source": [
        "## Conditionals\n",
        "if, elif, else.\n",
        "\n",
        "Boolean expressions.\n"
      ]
    },
    {
      "cell_type": "code",
      "execution_count": null,
      "metadata": {
        "colab": {
          "base_uri": "https://localhost:8080/"
        },
        "id": "npZB-0z8y3Sr",
        "outputId": "90f309da-8a70-4652-991a-cd8d7fc51200"
      },
      "outputs": [],
      "source": [
        "score = 75\n",
        "if score >= 90:\n",
        "    print(\"A grade\")\n",
        "elif score >= 60:\n",
        "    print(\"Pass\")\n",
        "else:\n",
        "    print(\"Fail\")\n"
      ]
    },
    {
      "cell_type": "code",
      "execution_count": null,
      "metadata": {
        "colab": {
          "base_uri": "https://localhost:8080/"
        },
        "id": "t_zOclgV5Hqh",
        "outputId": "5ba90c3b-68b2-4347-f739-f9354c346864"
      },
      "outputs": [],
      "source": [
        "statement1 = False\n",
        "statement2 = True\n",
        "\n",
        "if statement1:\n",
        "    print(\"statement1 is True\")\n",
        "\n",
        "elif statement2:\n",
        "    print(\"statement2 is True\")\n",
        "\n",
        "else:\n",
        "    print(\"statement1 and statement2 are False\")"
      ]
    },
    {
      "cell_type": "code",
      "execution_count": null,
      "metadata": {
        "colab": {
          "base_uri": "https://localhost:8080/"
        },
        "id": "W1QcrTvb5OZ0",
        "outputId": "deb2b975-4263-4b2d-96a6-60371d1d2d0a"
      },
      "outputs": [],
      "source": [
        "statement1 = False\n",
        "statement2 = False\n",
        "\n",
        "if statement1:\n",
        "    print(\"s1 is true\")\n",
        "elif statement2:\n",
        "    print(\"s2 is true\")\n",
        "else:\n",
        "    print(\"neither of them are true\")"
      ]
    },
    {
      "cell_type": "code",
      "execution_count": null,
      "metadata": {
        "colab": {
          "base_uri": "https://localhost:8080/"
        },
        "id": "XhvCNQor5UQT",
        "outputId": "2acf1cef-bd27-4938-f921-1097f1557772"
      },
      "outputs": [],
      "source": [
        "statement1 = True\n",
        "statement2 = True\n",
        "\n",
        "if statement1:\n",
        "    if statement2:\n",
        "        print(\"both statement1 and statement2 are True\")"
      ]
    },
    {
      "cell_type": "code",
      "execution_count": null,
      "metadata": {
        "id": "5NEm_VKF5UyJ"
      },
      "outputs": [],
      "source": [
        "# Bad indentation!\n",
        "if statement1:\n",
        "    if statement2:\n",
        "    print(\"both statement1 and statement2 are True\")  # this line is not properly indented"
      ]
    },
    {
      "cell_type": "code",
      "execution_count": null,
      "metadata": {
        "id": "L8h6HBzu5WkY"
      },
      "outputs": [],
      "source": [
        "statement1 = False\n",
        "\n",
        "if statement1:\n",
        "    print(\"printed if statement1 is True\")\n",
        "\n",
        "    print(\"still inside the if block\")"
      ]
    },
    {
      "cell_type": "code",
      "execution_count": null,
      "metadata": {
        "colab": {
          "base_uri": "https://localhost:8080/"
        },
        "id": "5nhYweCG5aTI",
        "outputId": "12291e12-e3f1-4556-ab46-89ca5957affa"
      },
      "outputs": [],
      "source": [
        "if statement1:\n",
        "    print(\"printed if statement1 is True\")\n",
        "\n",
        "print(\"now outside the if block\")"
      ]
    },
    {
      "cell_type": "markdown",
      "metadata": {
        "id": "njVSL1hgy-Ym"
      },
      "source": [
        "## Exercise: Write program to classify a number as positive, negative, or zero.\n",
        "\n"
      ]
    },
    {
      "cell_type": "markdown",
      "metadata": {
        "id": "YHebtvXzzF0v"
      },
      "source": [
        "## Loops\n",
        "\n",
        "For loops over ranges and collections.\n",
        "\n",
        "While loops with conditions.\n",
        "\n",
        "break and continue.\n",
        "\n"
      ]
    },
    {
      "cell_type": "code",
      "execution_count": null,
      "metadata": {
        "colab": {
          "base_uri": "https://localhost:8080/"
        },
        "id": "Kr424yGX5dWg",
        "outputId": "5e97c860-95ac-41e2-f497-ae5593954e18"
      },
      "outputs": [],
      "source": [
        "for x in [1,2,3]:\n",
        "    print(x)"
      ]
    },
    {
      "cell_type": "code",
      "execution_count": null,
      "metadata": {
        "colab": {
          "base_uri": "https://localhost:8080/"
        },
        "id": "6qawbvG7y9fC",
        "outputId": "7b85c947-ad76-4b42-89ac-256e9942e679"
      },
      "outputs": [],
      "source": [
        "for i in range(5):\n",
        "    if i == 3:\n",
        "        break\n",
        "    print(i)\n"
      ]
    },
    {
      "cell_type": "code",
      "execution_count": null,
      "metadata": {
        "colab": {
          "base_uri": "https://localhost:8080/"
        },
        "id": "rhphhq-W5fCI",
        "outputId": "71d90f33-5e2b-4e95-dc10-925b7d6beefa"
      },
      "outputs": [],
      "source": [
        "for x in range(-3,3):\n",
        "    print(x)"
      ]
    },
    {
      "cell_type": "code",
      "execution_count": null,
      "metadata": {
        "colab": {
          "base_uri": "https://localhost:8080/"
        },
        "id": "A_5mhsa65il8",
        "outputId": "4e92b7a6-9cec-484c-cfc5-a12b707e997d"
      },
      "outputs": [],
      "source": [
        "for (idx, x) in enumerate(range(-3,3)):\n",
        "    print(idx, x)"
      ]
    },
    {
      "cell_type": "markdown",
      "metadata": {
        "id": "UpHIG2PLzPoj"
      },
      "source": [
        "## Exercise: Print all even numbers from a list."
      ]
    },
    {
      "cell_type": "markdown",
      "metadata": {
        "id": "ebJTqjR6zd8r"
      },
      "source": [
        "# Functions"
      ]
    },
    {
      "cell_type": "markdown",
      "metadata": {
        "id": "BX7-NWkzzhLJ"
      },
      "source": [
        "## Defining and calling functions.\n",
        "\n",
        "Parameters and return values.\n",
        "\n",
        "Default parameters.\n",
        "\n",
        "Variable scope.\n"
      ]
    },
    {
      "cell_type": "markdown",
      "metadata": {
        "id": "GzygtPdZ5xq8"
      },
      "source": [
        "In Python, functions are reusable blocks of code designed to perform a specific task. They help organize code into manageable, modular parts, improve readability, and avoid repetition.\n",
        "\n",
        "\n",
        "A function is defined using the **def** keyword, followed by a **name and parentheses** that may include **parameters (inputs)**.\n",
        "\n",
        "Inside the function, you write the statements that execute the task.\n",
        "\n",
        "Functions can optionally return a value using the return statement.\n",
        "\n"
      ]
    },
    {
      "cell_type": "code",
      "execution_count": null,
      "metadata": {
        "id": "W9aLNecb5nV0"
      },
      "outputs": [],
      "source": [
        "def func0():\n",
        "    print(\"test\")"
      ]
    },
    {
      "cell_type": "code",
      "execution_count": null,
      "metadata": {
        "colab": {
          "base_uri": "https://localhost:8080/"
        },
        "id": "VqcM9Y495pi4",
        "outputId": "264e8692-7674-45a0-faa9-34340d7e0ac8"
      },
      "outputs": [],
      "source": [
        "func0()"
      ]
    },
    {
      "cell_type": "code",
      "execution_count": null,
      "metadata": {
        "id": "ADXh_FHJ5qOw"
      },
      "outputs": [],
      "source": [
        "def func1(s):\n",
        "    \"\"\"\n",
        "    Print a string 's' and tell how many characters it has\n",
        "    \"\"\"\n",
        "\n",
        "    print(s + \" has \" + str(len(s)) + \" characters\")"
      ]
    },
    {
      "cell_type": "code",
      "execution_count": null,
      "metadata": {
        "colab": {
          "base_uri": "https://localhost:8080/"
        },
        "id": "_FoKVWII6DiF",
        "outputId": "c983947a-1746-417c-e5d1-56f321fc9f28"
      },
      "outputs": [],
      "source": [
        "help(func1)"
      ]
    },
    {
      "cell_type": "code",
      "execution_count": null,
      "metadata": {
        "id": "958T-Euf6RF8"
      },
      "outputs": [],
      "source": [
        "def square(x):\n",
        "    \"\"\"\n",
        "    Return the square of x.\n",
        "    \"\"\"\n",
        "    return x ** 2"
      ]
    },
    {
      "cell_type": "code",
      "execution_count": null,
      "metadata": {
        "colab": {
          "base_uri": "https://localhost:8080/"
        },
        "id": "bqQF-6uH6Rp2",
        "outputId": "9b5ee51d-c0f0-4038-9605-1682957f9885"
      },
      "outputs": [],
      "source": [
        "square(4)"
      ]
    },
    {
      "cell_type": "code",
      "execution_count": null,
      "metadata": {
        "id": "GJcpDVHh6UjU"
      },
      "outputs": [],
      "source": [
        "def powers(x):\n",
        "    \"\"\"\n",
        "    Return a few powers of x.\n",
        "    \"\"\"\n",
        "    return (x ** 2, x ** 3, x ** 4)"
      ]
    },
    {
      "cell_type": "code",
      "execution_count": null,
      "metadata": {
        "colab": {
          "base_uri": "https://localhost:8080/"
        },
        "id": "aOFTDok96Ug4",
        "outputId": "3891aba5-da8f-4453-9d23-18f728c99ec3"
      },
      "outputs": [],
      "source": [
        "powers(3)"
      ]
    },
    {
      "cell_type": "markdown",
      "metadata": {
        "id": "R66sdPSL6fLl"
      },
      "source": [
        "Default argument and keyword arguments\n",
        "In a definition of a function, we can give default values to the arguments the function takes:\n",
        "\n"
      ]
    },
    {
      "cell_type": "code",
      "execution_count": null,
      "metadata": {
        "colab": {
          "base_uri": "https://localhost:8080/"
        },
        "id": "5LQHg7Gdy7yG",
        "outputId": "94a25f61-ba2d-45bb-ddde-69ded10a4fec"
      },
      "outputs": [],
      "source": [
        "def greet(name=\"Student\"):\n",
        "    print(\"Hello\", name)\n",
        "\n",
        "greet()\n",
        "greet(\"Alice\")\n"
      ]
    },
    {
      "cell_type": "code",
      "execution_count": null,
      "metadata": {
        "id": "mBFClZRSzkOB"
      },
      "outputs": [],
      "source": [
        "def myfunc(x, p=2, debug=False):\n",
        "    if debug:\n",
        "        print(\"evaluating myfunc for x = \" + str(x) + \" using exponent p = \" + str(p))\n",
        "    return x**p"
      ]
    },
    {
      "cell_type": "code",
      "execution_count": null,
      "metadata": {
        "colab": {
          "base_uri": "https://localhost:8080/"
        },
        "id": "Cv7-LuHf6iY4",
        "outputId": "007a30b7-9709-4f44-ef6d-d9de1ce85d95"
      },
      "outputs": [],
      "source": [
        "myfunc(5)"
      ]
    },
    {
      "cell_type": "code",
      "execution_count": null,
      "metadata": {
        "colab": {
          "base_uri": "https://localhost:8080/"
        },
        "id": "Pvv88IxK6jrk",
        "outputId": "d7ff41ac-d7a6-43ce-e2f6-ce00e6980cb0"
      },
      "outputs": [],
      "source": [
        "myfunc(5, debug=True)"
      ]
    },
    {
      "cell_type": "code",
      "execution_count": null,
      "metadata": {
        "colab": {
          "base_uri": "https://localhost:8080/"
        },
        "id": "4AkCKFjL6ky6",
        "outputId": "fa9d9ad2-c484-4f42-c2ef-59047cd8bc96"
      },
      "outputs": [],
      "source": [
        "myfunc(p=3, debug=True, x=7)"
      ]
    },
    {
      "cell_type": "markdown",
      "metadata": {
        "id": "fAf5ZkxL6wOl"
      },
      "source": [
        "If we explicitly list the name of the arguments in the function calls, they do not need to come in the same order as in the function definition. This is called keyword arguments, and is often very useful in functions that takes a lot of optional arguments.\n",
        "\n"
      ]
    },
    {
      "cell_type": "markdown",
      "metadata": {
        "id": "9jA6ZD4C7AaA"
      },
      "source": [
        "# Congratulations on completing this foundational journey into Python!\n",
        "\n",
        "### Mastering these core concepts - from lists and dictionaries to functions and control flow - sets you on the path to exploring the exciting world of machine learning with confidence.\n",
        "\n",
        "### Remember, programming is as much about creativity and problem-solving as it is about syntax. Keep experimenting, stay curious, and don't be afraid to make mistakes - they are the stepping stones to true mastery. As you move forward, these skills will empower you to transform data into insight and ideas into impactful solutions.\n",
        "\n",
        "# Happy coding, and welcome to the vibrant community of Python learners!\n",
        "\n"
      ]
    }
  ],
  "metadata": {
    "colab": {
      "provenance": []
    },
    "kernelspec": {
      "display_name": "Python 3",
      "name": "python3"
    },
    "language_info": {
      "name": "python"
    }
  },
  "nbformat": 4,
  "nbformat_minor": 0
}
